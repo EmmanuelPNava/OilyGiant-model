{
 "cells": [
  {
   "cell_type": "markdown",
   "metadata": {},
   "source": [
    "# Proyecto: La mejor zona para extracción de petróleo.\n",
    "---\n",
    "En este proyecto tenemos la meta de asesorar a la empresa OilyGiant para encontrar los mejores lugares donde abrir 200 pozos nuevos de petróleo. \n",
    "\n",
    "El presupuesto para el desarrollo de 200 pozos petroleros es de 100 millones de dólares por lo cual tenemos que brindar una respuesta que ayude a la empresa a obtener la mayor cantidad de ganancias. "
   ]
  },
  {
   "cell_type": "markdown",
   "metadata": {},
   "source": [
    "## Descarga y preparacion de datos."
   ]
  },
  {
   "cell_type": "code",
   "execution_count": 1,
   "metadata": {},
   "outputs": [],
   "source": [
    "import pandas as pd\n",
    "from sklearn.model_selection import train_test_split\n",
    "from sklearn.linear_model import LinearRegression\n",
    "from sklearn.metrics import mean_squared_error\n",
    "\n",
    "import numpy as np\n",
    "import matplotlib.pyplot as plt\n",
    "from scipy import stats as st\n",
    "\n",
    "from numpy.random import RandomState"
   ]
  },
  {
   "cell_type": "code",
   "execution_count": 2,
   "metadata": {},
   "outputs": [],
   "source": [
    "data_0 = pd.read_csv('/datasets/geo_data_0.csv')\n",
    "data_1 = pd.read_csv('/datasets/geo_data_1.csv')\n",
    "data_2 = pd.read_csv('/datasets/geo_data_2.csv')"
   ]
  },
  {
   "cell_type": "code",
   "execution_count": 3,
   "metadata": {},
   "outputs": [
    {
     "data": {
      "text/html": [
       "<div>\n",
       "<style scoped>\n",
       "    .dataframe tbody tr th:only-of-type {\n",
       "        vertical-align: middle;\n",
       "    }\n",
       "\n",
       "    .dataframe tbody tr th {\n",
       "        vertical-align: top;\n",
       "    }\n",
       "\n",
       "    .dataframe thead th {\n",
       "        text-align: right;\n",
       "    }\n",
       "</style>\n",
       "<table border=\"1\" class=\"dataframe\">\n",
       "  <thead>\n",
       "    <tr style=\"text-align: right;\">\n",
       "      <th></th>\n",
       "      <th>id</th>\n",
       "      <th>f0</th>\n",
       "      <th>f1</th>\n",
       "      <th>f2</th>\n",
       "      <th>product</th>\n",
       "    </tr>\n",
       "  </thead>\n",
       "  <tbody>\n",
       "    <tr>\n",
       "      <th>0</th>\n",
       "      <td>txEyH</td>\n",
       "      <td>0.705745</td>\n",
       "      <td>-0.497823</td>\n",
       "      <td>1.221170</td>\n",
       "      <td>105.280062</td>\n",
       "    </tr>\n",
       "    <tr>\n",
       "      <th>1</th>\n",
       "      <td>2acmU</td>\n",
       "      <td>1.334711</td>\n",
       "      <td>-0.340164</td>\n",
       "      <td>4.365080</td>\n",
       "      <td>73.037750</td>\n",
       "    </tr>\n",
       "    <tr>\n",
       "      <th>2</th>\n",
       "      <td>409Wp</td>\n",
       "      <td>1.022732</td>\n",
       "      <td>0.151990</td>\n",
       "      <td>1.419926</td>\n",
       "      <td>85.265647</td>\n",
       "    </tr>\n",
       "    <tr>\n",
       "      <th>3</th>\n",
       "      <td>iJLyR</td>\n",
       "      <td>-0.032172</td>\n",
       "      <td>0.139033</td>\n",
       "      <td>2.978566</td>\n",
       "      <td>168.620776</td>\n",
       "    </tr>\n",
       "    <tr>\n",
       "      <th>4</th>\n",
       "      <td>Xdl7t</td>\n",
       "      <td>1.988431</td>\n",
       "      <td>0.155413</td>\n",
       "      <td>4.751769</td>\n",
       "      <td>154.036647</td>\n",
       "    </tr>\n",
       "  </tbody>\n",
       "</table>\n",
       "</div>"
      ],
      "text/plain": [
       "      id        f0        f1        f2     product\n",
       "0  txEyH  0.705745 -0.497823  1.221170  105.280062\n",
       "1  2acmU  1.334711 -0.340164  4.365080   73.037750\n",
       "2  409Wp  1.022732  0.151990  1.419926   85.265647\n",
       "3  iJLyR -0.032172  0.139033  2.978566  168.620776\n",
       "4  Xdl7t  1.988431  0.155413  4.751769  154.036647"
      ]
     },
     "execution_count": 3,
     "metadata": {},
     "output_type": "execute_result"
    }
   ],
   "source": [
    "data_0.head()"
   ]
  },
  {
   "cell_type": "code",
   "execution_count": 4,
   "metadata": {},
   "outputs": [
    {
     "name": "stdout",
     "output_type": "stream",
     "text": [
      "<class 'pandas.core.frame.DataFrame'>\n",
      "RangeIndex: 100000 entries, 0 to 99999\n",
      "Data columns (total 5 columns):\n",
      " #   Column   Non-Null Count   Dtype  \n",
      "---  ------   --------------   -----  \n",
      " 0   id       100000 non-null  object \n",
      " 1   f0       100000 non-null  float64\n",
      " 2   f1       100000 non-null  float64\n",
      " 3   f2       100000 non-null  float64\n",
      " 4   product  100000 non-null  float64\n",
      "dtypes: float64(4), object(1)\n",
      "memory usage: 3.8+ MB\n"
     ]
    }
   ],
   "source": [
    "data_0.info()"
   ]
  },
  {
   "cell_type": "code",
   "execution_count": 5,
   "metadata": {},
   "outputs": [
    {
     "data": {
      "text/html": [
       "<div>\n",
       "<style scoped>\n",
       "    .dataframe tbody tr th:only-of-type {\n",
       "        vertical-align: middle;\n",
       "    }\n",
       "\n",
       "    .dataframe tbody tr th {\n",
       "        vertical-align: top;\n",
       "    }\n",
       "\n",
       "    .dataframe thead th {\n",
       "        text-align: right;\n",
       "    }\n",
       "</style>\n",
       "<table border=\"1\" class=\"dataframe\">\n",
       "  <thead>\n",
       "    <tr style=\"text-align: right;\">\n",
       "      <th></th>\n",
       "      <th>id</th>\n",
       "      <th>f0</th>\n",
       "      <th>f1</th>\n",
       "      <th>f2</th>\n",
       "      <th>product</th>\n",
       "    </tr>\n",
       "  </thead>\n",
       "  <tbody>\n",
       "    <tr>\n",
       "      <th>0</th>\n",
       "      <td>kBEdx</td>\n",
       "      <td>-15.001348</td>\n",
       "      <td>-8.276000</td>\n",
       "      <td>-0.005876</td>\n",
       "      <td>3.179103</td>\n",
       "    </tr>\n",
       "    <tr>\n",
       "      <th>1</th>\n",
       "      <td>62mP7</td>\n",
       "      <td>14.272088</td>\n",
       "      <td>-3.475083</td>\n",
       "      <td>0.999183</td>\n",
       "      <td>26.953261</td>\n",
       "    </tr>\n",
       "    <tr>\n",
       "      <th>2</th>\n",
       "      <td>vyE1P</td>\n",
       "      <td>6.263187</td>\n",
       "      <td>-5.948386</td>\n",
       "      <td>5.001160</td>\n",
       "      <td>134.766305</td>\n",
       "    </tr>\n",
       "    <tr>\n",
       "      <th>3</th>\n",
       "      <td>KcrkZ</td>\n",
       "      <td>-13.081196</td>\n",
       "      <td>-11.506057</td>\n",
       "      <td>4.999415</td>\n",
       "      <td>137.945408</td>\n",
       "    </tr>\n",
       "    <tr>\n",
       "      <th>4</th>\n",
       "      <td>AHL4O</td>\n",
       "      <td>12.702195</td>\n",
       "      <td>-8.147433</td>\n",
       "      <td>5.004363</td>\n",
       "      <td>134.766305</td>\n",
       "    </tr>\n",
       "  </tbody>\n",
       "</table>\n",
       "</div>"
      ],
      "text/plain": [
       "      id         f0         f1        f2     product\n",
       "0  kBEdx -15.001348  -8.276000 -0.005876    3.179103\n",
       "1  62mP7  14.272088  -3.475083  0.999183   26.953261\n",
       "2  vyE1P   6.263187  -5.948386  5.001160  134.766305\n",
       "3  KcrkZ -13.081196 -11.506057  4.999415  137.945408\n",
       "4  AHL4O  12.702195  -8.147433  5.004363  134.766305"
      ]
     },
     "execution_count": 5,
     "metadata": {},
     "output_type": "execute_result"
    }
   ],
   "source": [
    "data_1.head()"
   ]
  },
  {
   "cell_type": "code",
   "execution_count": 6,
   "metadata": {},
   "outputs": [
    {
     "name": "stdout",
     "output_type": "stream",
     "text": [
      "<class 'pandas.core.frame.DataFrame'>\n",
      "RangeIndex: 100000 entries, 0 to 99999\n",
      "Data columns (total 5 columns):\n",
      " #   Column   Non-Null Count   Dtype  \n",
      "---  ------   --------------   -----  \n",
      " 0   id       100000 non-null  object \n",
      " 1   f0       100000 non-null  float64\n",
      " 2   f1       100000 non-null  float64\n",
      " 3   f2       100000 non-null  float64\n",
      " 4   product  100000 non-null  float64\n",
      "dtypes: float64(4), object(1)\n",
      "memory usage: 3.8+ MB\n"
     ]
    }
   ],
   "source": [
    "data_1.info()"
   ]
  },
  {
   "cell_type": "code",
   "execution_count": 7,
   "metadata": {},
   "outputs": [
    {
     "data": {
      "text/html": [
       "<div>\n",
       "<style scoped>\n",
       "    .dataframe tbody tr th:only-of-type {\n",
       "        vertical-align: middle;\n",
       "    }\n",
       "\n",
       "    .dataframe tbody tr th {\n",
       "        vertical-align: top;\n",
       "    }\n",
       "\n",
       "    .dataframe thead th {\n",
       "        text-align: right;\n",
       "    }\n",
       "</style>\n",
       "<table border=\"1\" class=\"dataframe\">\n",
       "  <thead>\n",
       "    <tr style=\"text-align: right;\">\n",
       "      <th></th>\n",
       "      <th>id</th>\n",
       "      <th>f0</th>\n",
       "      <th>f1</th>\n",
       "      <th>f2</th>\n",
       "      <th>product</th>\n",
       "    </tr>\n",
       "  </thead>\n",
       "  <tbody>\n",
       "    <tr>\n",
       "      <th>0</th>\n",
       "      <td>fwXo0</td>\n",
       "      <td>-1.146987</td>\n",
       "      <td>0.963328</td>\n",
       "      <td>-0.828965</td>\n",
       "      <td>27.758673</td>\n",
       "    </tr>\n",
       "    <tr>\n",
       "      <th>1</th>\n",
       "      <td>WJtFt</td>\n",
       "      <td>0.262778</td>\n",
       "      <td>0.269839</td>\n",
       "      <td>-2.530187</td>\n",
       "      <td>56.069697</td>\n",
       "    </tr>\n",
       "    <tr>\n",
       "      <th>2</th>\n",
       "      <td>ovLUW</td>\n",
       "      <td>0.194587</td>\n",
       "      <td>0.289035</td>\n",
       "      <td>-5.586433</td>\n",
       "      <td>62.871910</td>\n",
       "    </tr>\n",
       "    <tr>\n",
       "      <th>3</th>\n",
       "      <td>q6cA6</td>\n",
       "      <td>2.236060</td>\n",
       "      <td>-0.553760</td>\n",
       "      <td>0.930038</td>\n",
       "      <td>114.572842</td>\n",
       "    </tr>\n",
       "    <tr>\n",
       "      <th>4</th>\n",
       "      <td>WPMUX</td>\n",
       "      <td>-0.515993</td>\n",
       "      <td>1.716266</td>\n",
       "      <td>5.899011</td>\n",
       "      <td>149.600746</td>\n",
       "    </tr>\n",
       "  </tbody>\n",
       "</table>\n",
       "</div>"
      ],
      "text/plain": [
       "      id        f0        f1        f2     product\n",
       "0  fwXo0 -1.146987  0.963328 -0.828965   27.758673\n",
       "1  WJtFt  0.262778  0.269839 -2.530187   56.069697\n",
       "2  ovLUW  0.194587  0.289035 -5.586433   62.871910\n",
       "3  q6cA6  2.236060 -0.553760  0.930038  114.572842\n",
       "4  WPMUX -0.515993  1.716266  5.899011  149.600746"
      ]
     },
     "execution_count": 7,
     "metadata": {},
     "output_type": "execute_result"
    }
   ],
   "source": [
    "data_2.head()"
   ]
  },
  {
   "cell_type": "code",
   "execution_count": 8,
   "metadata": {},
   "outputs": [
    {
     "name": "stdout",
     "output_type": "stream",
     "text": [
      "<class 'pandas.core.frame.DataFrame'>\n",
      "RangeIndex: 100000 entries, 0 to 99999\n",
      "Data columns (total 5 columns):\n",
      " #   Column   Non-Null Count   Dtype  \n",
      "---  ------   --------------   -----  \n",
      " 0   id       100000 non-null  object \n",
      " 1   f0       100000 non-null  float64\n",
      " 2   f1       100000 non-null  float64\n",
      " 3   f2       100000 non-null  float64\n",
      " 4   product  100000 non-null  float64\n",
      "dtypes: float64(4), object(1)\n",
      "memory usage: 3.8+ MB\n"
     ]
    }
   ],
   "source": [
    "data_2.info()"
   ]
  },
  {
   "cell_type": "markdown",
   "metadata": {},
   "source": [
    "### Filtracion de columnas.\n",
    "---\n",
    "A continuacion voy a filtrar la columna \"id\" de todos las datasets por 2 grandes razones:\n",
    "1.- Si los datos son codificados con One-Hot, obtendriamos aproximadamente un poco menos de 10,000 columnas que alentaran bastante nuestro modelo.\n",
    "2.- Yo considero que no aportan informacion importante para el modelo a la hora de predecir cual pozo es mejor que otro. "
   ]
  },
  {
   "cell_type": "code",
   "execution_count": 9,
   "metadata": {},
   "outputs": [],
   "source": [
    "data_0 = data_0.drop('id', axis=1)\n",
    "data_1 = data_1.drop('id', axis=1)\n",
    "data_2 = data_2.drop('id', axis=1)"
   ]
  },
  {
   "cell_type": "code",
   "execution_count": 10,
   "metadata": {},
   "outputs": [
    {
     "data": {
      "text/html": [
       "<div>\n",
       "<style scoped>\n",
       "    .dataframe tbody tr th:only-of-type {\n",
       "        vertical-align: middle;\n",
       "    }\n",
       "\n",
       "    .dataframe tbody tr th {\n",
       "        vertical-align: top;\n",
       "    }\n",
       "\n",
       "    .dataframe thead th {\n",
       "        text-align: right;\n",
       "    }\n",
       "</style>\n",
       "<table border=\"1\" class=\"dataframe\">\n",
       "  <thead>\n",
       "    <tr style=\"text-align: right;\">\n",
       "      <th></th>\n",
       "      <th>f0</th>\n",
       "      <th>f1</th>\n",
       "      <th>f2</th>\n",
       "      <th>product</th>\n",
       "    </tr>\n",
       "  </thead>\n",
       "  <tbody>\n",
       "    <tr>\n",
       "      <th>0</th>\n",
       "      <td>0.705745</td>\n",
       "      <td>-0.497823</td>\n",
       "      <td>1.221170</td>\n",
       "      <td>105.280062</td>\n",
       "    </tr>\n",
       "    <tr>\n",
       "      <th>1</th>\n",
       "      <td>1.334711</td>\n",
       "      <td>-0.340164</td>\n",
       "      <td>4.365080</td>\n",
       "      <td>73.037750</td>\n",
       "    </tr>\n",
       "    <tr>\n",
       "      <th>2</th>\n",
       "      <td>1.022732</td>\n",
       "      <td>0.151990</td>\n",
       "      <td>1.419926</td>\n",
       "      <td>85.265647</td>\n",
       "    </tr>\n",
       "    <tr>\n",
       "      <th>3</th>\n",
       "      <td>-0.032172</td>\n",
       "      <td>0.139033</td>\n",
       "      <td>2.978566</td>\n",
       "      <td>168.620776</td>\n",
       "    </tr>\n",
       "    <tr>\n",
       "      <th>4</th>\n",
       "      <td>1.988431</td>\n",
       "      <td>0.155413</td>\n",
       "      <td>4.751769</td>\n",
       "      <td>154.036647</td>\n",
       "    </tr>\n",
       "  </tbody>\n",
       "</table>\n",
       "</div>"
      ],
      "text/plain": [
       "         f0        f1        f2     product\n",
       "0  0.705745 -0.497823  1.221170  105.280062\n",
       "1  1.334711 -0.340164  4.365080   73.037750\n",
       "2  1.022732  0.151990  1.419926   85.265647\n",
       "3 -0.032172  0.139033  2.978566  168.620776\n",
       "4  1.988431  0.155413  4.751769  154.036647"
      ]
     },
     "execution_count": 10,
     "metadata": {},
     "output_type": "execute_result"
    }
   ],
   "source": [
    "data_0.head()"
   ]
  },
  {
   "cell_type": "markdown",
   "metadata": {},
   "source": [
    "## Entrenamiento y prueba de modelo.\n",
    "---\n",
    "Vamos a construir un modelo usando funciones que tengan todos los procesos necesarios. Para lograr esto usaremos los datos de la region Geo 0."
   ]
  },
  {
   "cell_type": "code",
   "execution_count": 11,
   "metadata": {},
   "outputs": [
    {
     "name": "stdout",
     "output_type": "stream",
     "text": [
      "(75000, 3)\n",
      "(25000, 3)\n"
     ]
    }
   ],
   "source": [
    "def split_the_data(data):\n",
    "    \n",
    "    target = data['product']\n",
    "    features = data.drop('product', axis=1)\n",
    "    \n",
    "    features_train, features_valid, target_train, target_valid = train_test_split(\n",
    "    features, target, test_size=0.25, random_state=12345)\n",
    "    \n",
    "    return features_train, features_valid, target_train, target_valid\n",
    "\n",
    "features_train_0, features_valid_0, target_train_0, target_valid_0 = split_the_data(data_0)\n",
    "\n",
    "print(features_train_0.shape)\n",
    "print(features_valid_0.shape)"
   ]
  },
  {
   "cell_type": "code",
   "execution_count": 12,
   "metadata": {},
   "outputs": [
    {
     "name": "stdout",
     "output_type": "stream",
     "text": [
      "37.5794217150813\n",
      "92.59256778438035\n"
     ]
    }
   ],
   "source": [
    "def train_the_model_and_predict(features_train, target_train, features_valid, target_valid):\n",
    "    \n",
    "    model = LinearRegression()\n",
    "    model.fit(features_train, target_train)\n",
    "    predicted_valid = model.predict(features_valid)\n",
    "    \n",
    "    volumen_medio_predicho = predicted_valid.mean()\n",
    "    \n",
    "    MSE = mean_squared_error(target_valid, predicted_valid)\n",
    "    RMSE = MSE ** 0.5\n",
    "    \n",
    "    return RMSE, volumen_medio_predicho, predicted_valid\n",
    "\n",
    "rmse, volumen_medio_predicho, predicted_valid_0 = train_the_model_and_predict(features_train_0, target_train_0, features_valid_0, target_valid_0)\n",
    "\n",
    "print(rmse)\n",
    "print(volumen_medio_predicho)"
   ]
  },
  {
   "cell_type": "markdown",
   "metadata": {},
   "source": [
    "La RECM nos indica que, en promedio, nuestras predicciones erraron por aproximadamente 37,579 barriles de petróleo. Me parece bastante ya que el volumen medio predicho es de 92,592 barriles de petróleo."
   ]
  },
  {
   "cell_type": "markdown",
   "metadata": {},
   "source": [
    "### Region Geo 1.\n",
    "---\n",
    "Crearemos un nuevo modelo usando las funciones desarrolladas anteriormente, pero ahora usaremos los datos de la region Geo 1."
   ]
  },
  {
   "cell_type": "code",
   "execution_count": 13,
   "metadata": {},
   "outputs": [
    {
     "name": "stdout",
     "output_type": "stream",
     "text": [
      "(75000, 3)\n",
      "(25000, 3)\n"
     ]
    }
   ],
   "source": [
    "features_train_1, features_valid_1, target_train_1, target_valid_1 = split_the_data(data_1)\n",
    "\n",
    "print(features_train_1.shape)\n",
    "print(features_valid_1.shape)"
   ]
  },
  {
   "cell_type": "code",
   "execution_count": 14,
   "metadata": {},
   "outputs": [
    {
     "name": "stdout",
     "output_type": "stream",
     "text": [
      "0.893099286775617\n",
      "68.728546895446\n"
     ]
    }
   ],
   "source": [
    "rmse, volumen_medio_predicho, predicted_valid_1 = train_the_model_and_predict(features_train_1, target_train_1, features_valid_1, target_valid_1)\n",
    "\n",
    "print(rmse)\n",
    "print(volumen_medio_predicho)"
   ]
  },
  {
   "cell_type": "markdown",
   "metadata": {},
   "source": [
    "La RECM nos indica que, en promedio, nuestras predicciones erraron por aproximadamente 893 barriles de petróleo. Me parece perfecto ya que el volumen medio predicho es de 68,728 barriles de petróleo. Podemos ver que este modelo predijo mucho mejor que el anterior, supongo que los datos proporcionados son de mayor calidad."
   ]
  },
  {
   "cell_type": "markdown",
   "metadata": {},
   "source": [
    "### Region Geo 2.\n",
    "---\n",
    "Crearemos un nuevo modelo usando las funciones desarrolladas anteriormente, pero ahora usaremos los datos de la region Geo 2."
   ]
  },
  {
   "cell_type": "code",
   "execution_count": 15,
   "metadata": {},
   "outputs": [
    {
     "name": "stdout",
     "output_type": "stream",
     "text": [
      "(75000, 3)\n",
      "(25000, 3)\n"
     ]
    }
   ],
   "source": [
    "features_train_2, features_valid_2, target_train_2, target_valid_2 = split_the_data(data_2)\n",
    "\n",
    "print(features_train_2.shape)\n",
    "print(features_valid_2.shape)"
   ]
  },
  {
   "cell_type": "code",
   "execution_count": 16,
   "metadata": {},
   "outputs": [
    {
     "name": "stdout",
     "output_type": "stream",
     "text": [
      "40.02970873393434\n",
      "94.96504596800489\n"
     ]
    }
   ],
   "source": [
    "rmse, volumen_medio_predicho, predicted_valid_2 = train_the_model_and_predict(features_train_2, target_train_2, features_valid_2, target_valid_2)\n",
    "\n",
    "print(rmse)\n",
    "print(volumen_medio_predicho)"
   ]
  },
  {
   "cell_type": "markdown",
   "metadata": {},
   "source": [
    "La RECM nos indica que, en promedio, nuestras predicciones erraron por aproximadamente 40,029 barriles de petróleo. Me parece una exageracion ya que el volumen medio predicho es de 94,965 barriles de petróleo."
   ]
  },
  {
   "cell_type": "markdown",
   "metadata": {},
   "source": [
    "## Preparacion para el cálculo de ganancias.\n",
    "---\n",
    "Para que un pozo pozo petrolífero sea rentable, este debe producir al menos un valor de 500,000 dólares en unidades para evitar pérdidas (esto es equivalente a 111.1 unidades). Podemos ver que ningun volumen medio se acerca a esta cantidad asi que tenemos que escoger los 200 pozos con los valores de predicción más altos de cada una de las 3 regiones."
   ]
  },
  {
   "cell_type": "code",
   "execution_count": 17,
   "metadata": {},
   "outputs": [],
   "source": [
    "data_0 = pd.DataFrame({'Target': target_valid_0.tolist(), 'Predicted': predicted_valid_0})\n",
    "data_1 = pd.DataFrame({'Target': target_valid_1.tolist(), 'Predicted': predicted_valid_1})\n",
    "data_2 = pd.DataFrame({'Target': target_valid_2.tolist(), 'Predicted': predicted_valid_2})"
   ]
  },
  {
   "cell_type": "code",
   "execution_count": 18,
   "metadata": {},
   "outputs": [
    {
     "data": {
      "text/html": [
       "<div>\n",
       "<style scoped>\n",
       "    .dataframe tbody tr th:only-of-type {\n",
       "        vertical-align: middle;\n",
       "    }\n",
       "\n",
       "    .dataframe tbody tr th {\n",
       "        vertical-align: top;\n",
       "    }\n",
       "\n",
       "    .dataframe thead th {\n",
       "        text-align: right;\n",
       "    }\n",
       "</style>\n",
       "<table border=\"1\" class=\"dataframe\">\n",
       "  <thead>\n",
       "    <tr style=\"text-align: right;\">\n",
       "      <th></th>\n",
       "      <th>Target</th>\n",
       "      <th>Predicted</th>\n",
       "    </tr>\n",
       "  </thead>\n",
       "  <tbody>\n",
       "    <tr>\n",
       "      <th>0</th>\n",
       "      <td>10.038645</td>\n",
       "      <td>95.894952</td>\n",
       "    </tr>\n",
       "    <tr>\n",
       "      <th>1</th>\n",
       "      <td>114.551489</td>\n",
       "      <td>77.572583</td>\n",
       "    </tr>\n",
       "    <tr>\n",
       "      <th>2</th>\n",
       "      <td>132.603635</td>\n",
       "      <td>77.892640</td>\n",
       "    </tr>\n",
       "    <tr>\n",
       "      <th>3</th>\n",
       "      <td>169.072125</td>\n",
       "      <td>90.175134</td>\n",
       "    </tr>\n",
       "    <tr>\n",
       "      <th>4</th>\n",
       "      <td>122.325180</td>\n",
       "      <td>70.510088</td>\n",
       "    </tr>\n",
       "    <tr>\n",
       "      <th>5</th>\n",
       "      <td>37.735331</td>\n",
       "      <td>69.127076</td>\n",
       "    </tr>\n",
       "    <tr>\n",
       "      <th>6</th>\n",
       "      <td>139.227191</td>\n",
       "      <td>125.106759</td>\n",
       "    </tr>\n",
       "    <tr>\n",
       "      <th>7</th>\n",
       "      <td>72.491987</td>\n",
       "      <td>87.643849</td>\n",
       "    </tr>\n",
       "    <tr>\n",
       "      <th>8</th>\n",
       "      <td>11.465993</td>\n",
       "      <td>86.035871</td>\n",
       "    </tr>\n",
       "    <tr>\n",
       "      <th>9</th>\n",
       "      <td>110.562031</td>\n",
       "      <td>98.655311</td>\n",
       "    </tr>\n",
       "    <tr>\n",
       "      <th>10</th>\n",
       "      <td>84.476439</td>\n",
       "      <td>95.017808</td>\n",
       "    </tr>\n",
       "    <tr>\n",
       "      <th>11</th>\n",
       "      <td>42.317435</td>\n",
       "      <td>73.789290</td>\n",
       "    </tr>\n",
       "    <tr>\n",
       "      <th>12</th>\n",
       "      <td>17.518543</td>\n",
       "      <td>59.737981</td>\n",
       "    </tr>\n",
       "    <tr>\n",
       "      <th>13</th>\n",
       "      <td>134.287634</td>\n",
       "      <td>101.473825</td>\n",
       "    </tr>\n",
       "    <tr>\n",
       "      <th>14</th>\n",
       "      <td>27.337955</td>\n",
       "      <td>70.383607</td>\n",
       "    </tr>\n",
       "    <tr>\n",
       "      <th>15</th>\n",
       "      <td>50.224183</td>\n",
       "      <td>59.506035</td>\n",
       "    </tr>\n",
       "    <tr>\n",
       "      <th>16</th>\n",
       "      <td>83.154771</td>\n",
       "      <td>116.312294</td>\n",
       "    </tr>\n",
       "    <tr>\n",
       "      <th>17</th>\n",
       "      <td>57.833131</td>\n",
       "      <td>60.336236</td>\n",
       "    </tr>\n",
       "    <tr>\n",
       "      <th>18</th>\n",
       "      <td>94.741340</td>\n",
       "      <td>66.145284</td>\n",
       "    </tr>\n",
       "    <tr>\n",
       "      <th>19</th>\n",
       "      <td>106.125570</td>\n",
       "      <td>50.447650</td>\n",
       "    </tr>\n",
       "  </tbody>\n",
       "</table>\n",
       "</div>"
      ],
      "text/plain": [
       "        Target   Predicted\n",
       "0    10.038645   95.894952\n",
       "1   114.551489   77.572583\n",
       "2   132.603635   77.892640\n",
       "3   169.072125   90.175134\n",
       "4   122.325180   70.510088\n",
       "5    37.735331   69.127076\n",
       "6   139.227191  125.106759\n",
       "7    72.491987   87.643849\n",
       "8    11.465993   86.035871\n",
       "9   110.562031   98.655311\n",
       "10   84.476439   95.017808\n",
       "11   42.317435   73.789290\n",
       "12   17.518543   59.737981\n",
       "13  134.287634  101.473825\n",
       "14   27.337955   70.383607\n",
       "15   50.224183   59.506035\n",
       "16   83.154771  116.312294\n",
       "17   57.833131   60.336236\n",
       "18   94.741340   66.145284\n",
       "19  106.125570   50.447650"
      ]
     },
     "execution_count": 18,
     "metadata": {},
     "output_type": "execute_result"
    }
   ],
   "source": [
    "data_0.head(20)"
   ]
  },
  {
   "cell_type": "code",
   "execution_count": 19,
   "metadata": {},
   "outputs": [],
   "source": [
    "def best_200(values):\n",
    "    \n",
    "    best_200 = values.sort_values(by='Predicted',ascending=False).head(200)\n",
    "        \n",
    "    return best_200"
   ]
  },
  {
   "cell_type": "code",
   "execution_count": 20,
   "metadata": {},
   "outputs": [
    {
     "data": {
      "text/html": [
       "<div>\n",
       "<style scoped>\n",
       "    .dataframe tbody tr th:only-of-type {\n",
       "        vertical-align: middle;\n",
       "    }\n",
       "\n",
       "    .dataframe tbody tr th {\n",
       "        vertical-align: top;\n",
       "    }\n",
       "\n",
       "    .dataframe thead th {\n",
       "        text-align: right;\n",
       "    }\n",
       "</style>\n",
       "<table border=\"1\" class=\"dataframe\">\n",
       "  <thead>\n",
       "    <tr style=\"text-align: right;\">\n",
       "      <th></th>\n",
       "      <th>Target</th>\n",
       "      <th>Predicted</th>\n",
       "    </tr>\n",
       "  </thead>\n",
       "  <tbody>\n",
       "    <tr>\n",
       "      <th>9317</th>\n",
       "      <td>162.810993</td>\n",
       "      <td>180.180713</td>\n",
       "    </tr>\n",
       "    <tr>\n",
       "      <th>219</th>\n",
       "      <td>153.639837</td>\n",
       "      <td>176.252213</td>\n",
       "    </tr>\n",
       "    <tr>\n",
       "      <th>10015</th>\n",
       "      <td>162.153488</td>\n",
       "      <td>175.850623</td>\n",
       "    </tr>\n",
       "    <tr>\n",
       "      <th>11584</th>\n",
       "      <td>96.893581</td>\n",
       "      <td>175.658429</td>\n",
       "    </tr>\n",
       "    <tr>\n",
       "      <th>23388</th>\n",
       "      <td>178.879516</td>\n",
       "      <td>173.299686</td>\n",
       "    </tr>\n",
       "    <tr>\n",
       "      <th>...</th>\n",
       "      <td>...</td>\n",
       "      <td>...</td>\n",
       "    </tr>\n",
       "    <tr>\n",
       "      <th>7888</th>\n",
       "      <td>179.683422</td>\n",
       "      <td>148.507064</td>\n",
       "    </tr>\n",
       "    <tr>\n",
       "      <th>7890</th>\n",
       "      <td>95.396917</td>\n",
       "      <td>148.481767</td>\n",
       "    </tr>\n",
       "    <tr>\n",
       "      <th>24051</th>\n",
       "      <td>160.361464</td>\n",
       "      <td>148.476498</td>\n",
       "    </tr>\n",
       "    <tr>\n",
       "      <th>24160</th>\n",
       "      <td>102.186603</td>\n",
       "      <td>148.436761</td>\n",
       "    </tr>\n",
       "    <tr>\n",
       "      <th>20340</th>\n",
       "      <td>119.890261</td>\n",
       "      <td>148.365941</td>\n",
       "    </tr>\n",
       "  </tbody>\n",
       "</table>\n",
       "<p>200 rows × 2 columns</p>\n",
       "</div>"
      ],
      "text/plain": [
       "           Target   Predicted\n",
       "9317   162.810993  180.180713\n",
       "219    153.639837  176.252213\n",
       "10015  162.153488  175.850623\n",
       "11584   96.893581  175.658429\n",
       "23388  178.879516  173.299686\n",
       "...           ...         ...\n",
       "7888   179.683422  148.507064\n",
       "7890    95.396917  148.481767\n",
       "24051  160.361464  148.476498\n",
       "24160  102.186603  148.436761\n",
       "20340  119.890261  148.365941\n",
       "\n",
       "[200 rows x 2 columns]"
      ]
     },
     "execution_count": 20,
     "metadata": {},
     "output_type": "execute_result"
    }
   ],
   "source": [
    "best_200_data_0 = best_200(data_0)\n",
    "\n",
    "best_200_data_0"
   ]
  },
  {
   "cell_type": "code",
   "execution_count": 21,
   "metadata": {},
   "outputs": [
    {
     "data": {
      "text/html": [
       "<div>\n",
       "<style scoped>\n",
       "    .dataframe tbody tr th:only-of-type {\n",
       "        vertical-align: middle;\n",
       "    }\n",
       "\n",
       "    .dataframe tbody tr th {\n",
       "        vertical-align: top;\n",
       "    }\n",
       "\n",
       "    .dataframe thead th {\n",
       "        text-align: right;\n",
       "    }\n",
       "</style>\n",
       "<table border=\"1\" class=\"dataframe\">\n",
       "  <thead>\n",
       "    <tr style=\"text-align: right;\">\n",
       "      <th></th>\n",
       "      <th>Target</th>\n",
       "      <th>Predicted</th>\n",
       "    </tr>\n",
       "  </thead>\n",
       "  <tbody>\n",
       "    <tr>\n",
       "      <th>20430</th>\n",
       "      <td>137.945408</td>\n",
       "      <td>139.818970</td>\n",
       "    </tr>\n",
       "    <tr>\n",
       "      <th>7777</th>\n",
       "      <td>137.945408</td>\n",
       "      <td>139.773423</td>\n",
       "    </tr>\n",
       "    <tr>\n",
       "      <th>8755</th>\n",
       "      <td>137.945408</td>\n",
       "      <td>139.703330</td>\n",
       "    </tr>\n",
       "    <tr>\n",
       "      <th>1178</th>\n",
       "      <td>137.945408</td>\n",
       "      <td>139.560938</td>\n",
       "    </tr>\n",
       "    <tr>\n",
       "      <th>4285</th>\n",
       "      <td>137.945408</td>\n",
       "      <td>139.516754</td>\n",
       "    </tr>\n",
       "    <tr>\n",
       "      <th>...</th>\n",
       "      <td>...</td>\n",
       "      <td>...</td>\n",
       "    </tr>\n",
       "    <tr>\n",
       "      <th>12774</th>\n",
       "      <td>137.945408</td>\n",
       "      <td>138.421423</td>\n",
       "    </tr>\n",
       "    <tr>\n",
       "      <th>8040</th>\n",
       "      <td>137.945408</td>\n",
       "      <td>138.416960</td>\n",
       "    </tr>\n",
       "    <tr>\n",
       "      <th>2257</th>\n",
       "      <td>137.945408</td>\n",
       "      <td>138.413881</td>\n",
       "    </tr>\n",
       "    <tr>\n",
       "      <th>17108</th>\n",
       "      <td>137.945408</td>\n",
       "      <td>138.412834</td>\n",
       "    </tr>\n",
       "    <tr>\n",
       "      <th>9693</th>\n",
       "      <td>137.945408</td>\n",
       "      <td>138.410697</td>\n",
       "    </tr>\n",
       "  </tbody>\n",
       "</table>\n",
       "<p>200 rows × 2 columns</p>\n",
       "</div>"
      ],
      "text/plain": [
       "           Target   Predicted\n",
       "20430  137.945408  139.818970\n",
       "7777   137.945408  139.773423\n",
       "8755   137.945408  139.703330\n",
       "1178   137.945408  139.560938\n",
       "4285   137.945408  139.516754\n",
       "...           ...         ...\n",
       "12774  137.945408  138.421423\n",
       "8040   137.945408  138.416960\n",
       "2257   137.945408  138.413881\n",
       "17108  137.945408  138.412834\n",
       "9693   137.945408  138.410697\n",
       "\n",
       "[200 rows x 2 columns]"
      ]
     },
     "execution_count": 21,
     "metadata": {},
     "output_type": "execute_result"
    }
   ],
   "source": [
    "best_200_data_1 = best_200(data_1)\n",
    "\n",
    "best_200_data_1"
   ]
  },
  {
   "cell_type": "code",
   "execution_count": 22,
   "metadata": {},
   "outputs": [
    {
     "data": {
      "text/html": [
       "<div>\n",
       "<style scoped>\n",
       "    .dataframe tbody tr th:only-of-type {\n",
       "        vertical-align: middle;\n",
       "    }\n",
       "\n",
       "    .dataframe tbody tr th {\n",
       "        vertical-align: top;\n",
       "    }\n",
       "\n",
       "    .dataframe thead th {\n",
       "        text-align: right;\n",
       "    }\n",
       "</style>\n",
       "<table border=\"1\" class=\"dataframe\">\n",
       "  <thead>\n",
       "    <tr style=\"text-align: right;\">\n",
       "      <th></th>\n",
       "      <th>Target</th>\n",
       "      <th>Predicted</th>\n",
       "    </tr>\n",
       "  </thead>\n",
       "  <tbody>\n",
       "    <tr>\n",
       "      <th>22636</th>\n",
       "      <td>175.103291</td>\n",
       "      <td>165.856833</td>\n",
       "    </tr>\n",
       "    <tr>\n",
       "      <th>24690</th>\n",
       "      <td>131.627481</td>\n",
       "      <td>165.679685</td>\n",
       "    </tr>\n",
       "    <tr>\n",
       "      <th>7811</th>\n",
       "      <td>141.160070</td>\n",
       "      <td>163.439962</td>\n",
       "    </tr>\n",
       "    <tr>\n",
       "      <th>1581</th>\n",
       "      <td>159.676082</td>\n",
       "      <td>162.062589</td>\n",
       "    </tr>\n",
       "    <tr>\n",
       "      <th>6751</th>\n",
       "      <td>142.135203</td>\n",
       "      <td>161.797476</td>\n",
       "    </tr>\n",
       "    <tr>\n",
       "      <th>...</th>\n",
       "      <td>...</td>\n",
       "      <td>...</td>\n",
       "    </tr>\n",
       "    <tr>\n",
       "      <th>5541</th>\n",
       "      <td>104.949568</td>\n",
       "      <td>142.490763</td>\n",
       "    </tr>\n",
       "    <tr>\n",
       "      <th>18126</th>\n",
       "      <td>89.492500</td>\n",
       "      <td>142.485922</td>\n",
       "    </tr>\n",
       "    <tr>\n",
       "      <th>11122</th>\n",
       "      <td>184.895101</td>\n",
       "      <td>142.465777</td>\n",
       "    </tr>\n",
       "    <tr>\n",
       "      <th>22669</th>\n",
       "      <td>137.480469</td>\n",
       "      <td>142.454763</td>\n",
       "    </tr>\n",
       "    <tr>\n",
       "      <th>23447</th>\n",
       "      <td>134.507140</td>\n",
       "      <td>142.408851</td>\n",
       "    </tr>\n",
       "  </tbody>\n",
       "</table>\n",
       "<p>200 rows × 2 columns</p>\n",
       "</div>"
      ],
      "text/plain": [
       "           Target   Predicted\n",
       "22636  175.103291  165.856833\n",
       "24690  131.627481  165.679685\n",
       "7811   141.160070  163.439962\n",
       "1581   159.676082  162.062589\n",
       "6751   142.135203  161.797476\n",
       "...           ...         ...\n",
       "5541   104.949568  142.490763\n",
       "18126   89.492500  142.485922\n",
       "11122  184.895101  142.465777\n",
       "22669  137.480469  142.454763\n",
       "23447  134.507140  142.408851\n",
       "\n",
       "[200 rows x 2 columns]"
      ]
     },
     "execution_count": 22,
     "metadata": {},
     "output_type": "execute_result"
    }
   ],
   "source": [
    "best_200_data_2 = best_200(data_2)\n",
    "\n",
    "best_200_data_2"
   ]
  },
  {
   "cell_type": "markdown",
   "metadata": {},
   "source": [
    "## Cálculo de ganancias.\n",
    "---\n",
    "Vamos a calcular la ganancia potencial de los 200 pozos principales por región para despues proponer la mejor región para el desarrollo de pozos petrolíferos."
   ]
  },
  {
   "cell_type": "code",
   "execution_count": 23,
   "metadata": {},
   "outputs": [],
   "source": [
    "def ganancia_potencial(region):  \n",
    "    \n",
    "    inversion = 100000000\n",
    "    total = region['Target'].sum()*4500\n",
    "    \n",
    "    ganancia = total-inversion\n",
    "    \n",
    "    return total, ganancia"
   ]
  },
  {
   "cell_type": "code",
   "execution_count": 24,
   "metadata": {},
   "outputs": [
    {
     "name": "stdout",
     "output_type": "stream",
     "text": [
      "Total generado: $133208260.43139851 millones de dolares\n",
      "Ganancia libre: $33208260.43139851 millones de dolares\n"
     ]
    }
   ],
   "source": [
    "total_data_0, ganancia_data_0 = ganancia_potencial(best_200_data_0)\n",
    "\n",
    "print(f'Total generado: ${total_data_0} millones de dolares')\n",
    "print(f'Ganancia libre: ${ganancia_data_0} millones de dolares')"
   ]
  },
  {
   "cell_type": "code",
   "execution_count": 25,
   "metadata": {},
   "outputs": [
    {
     "name": "stdout",
     "output_type": "stream",
     "text": [
      "Total generado: $124150866.96681511 millones de dolares\n",
      "Ganancia libre: $24150866.966815114 millones de dolares\n"
     ]
    }
   ],
   "source": [
    "total_data_1, ganancia_data_1 = ganancia_potencial(best_200_data_1)\n",
    "\n",
    "print(f'Total generado: ${total_data_1} millones de dolares')\n",
    "print(f'Ganancia libre: ${ganancia_data_1} millones de dolares')"
   ]
  },
  {
   "cell_type": "code",
   "execution_count": 26,
   "metadata": {},
   "outputs": [
    {
     "name": "stdout",
     "output_type": "stream",
     "text": [
      "Total generado: $127103499.63599832 millones de dolares\n",
      "Ganancia libre: $27103499.635998324 millones de dolares\n"
     ]
    }
   ],
   "source": [
    "total_data_2, ganancia_data_2 = ganancia_potencial(best_200_data_2)\n",
    "\n",
    "print(f'Total generado: ${total_data_2} millones de dolares')\n",
    "print(f'Ganancia libre: ${ganancia_data_2} millones de dolares')"
   ]
  },
  {
   "cell_type": "markdown",
   "metadata": {},
   "source": [
    "Yo considero que la mejor zona a explotar es la region 0, ya que podriamos obtener una ganancia libre de poco mas de 30 millones de dolares. Si en un futuro se busca realizar otra inversion, la region 2 parece ser la indicada. "
   ]
  },
  {
   "cell_type": "markdown",
   "metadata": {},
   "source": [
    "## Cálculo de riesgos y ganancias para cada región."
   ]
  },
  {
   "cell_type": "markdown",
   "metadata": {},
   "source": [
    "### Utilizando las predicciones, vamos a emplear la técnica del bootstrapping con 1000 muestras de 500 datos para hallar la distribución de los beneficios completamente al azar."
   ]
  },
  {
   "cell_type": "code",
   "execution_count": 27,
   "metadata": {},
   "outputs": [],
   "source": [
    "def bootstrapping(data):\n",
    "    state = np.random.RandomState(12345)\n",
    "    ganancia_for_mil_subsamples = []\n",
    "\n",
    "    for _ in range(1000):\n",
    "        subsample = data.sample(n=500, replace=True, random_state=state)\n",
    "        best_200_data = best_200(subsample)\n",
    "        total_data, ganancia_data = ganancia_potencial(best_200_data)\n",
    "        ganancia_for_mil_subsamples.append(ganancia_data)\n",
    "\n",
    "\n",
    "    return ganancia_for_mil_subsamples"
   ]
  },
  {
   "cell_type": "markdown",
   "metadata": {},
   "source": [
    "### Beneficio promedio."
   ]
  },
  {
   "cell_type": "code",
   "execution_count": 28,
   "metadata": {},
   "outputs": [
    {
     "name": "stdout",
     "output_type": "stream",
     "text": [
      "Ganancia libre en promedio para zona 0: $3961649 millones de dolares\n"
     ]
    }
   ],
   "source": [
    "ganancia_for_mil_subsamples_data_0 = bootstrapping(data_0)\n",
    "\n",
    "print(f'Ganancia libre en promedio para zona 0: ${int(sum(ganancia_for_mil_subsamples_data_0)/1000)} millones de dolares')"
   ]
  },
  {
   "cell_type": "code",
   "execution_count": 29,
   "metadata": {},
   "outputs": [
    {
     "name": "stdout",
     "output_type": "stream",
     "text": [
      "Ganancia libre en promedio para zona 1: $4560451 millones de dolares\n"
     ]
    }
   ],
   "source": [
    "ganancia_for_mil_subsamples_data_1 = bootstrapping(data_1)\n",
    "\n",
    "print(f'Ganancia libre en promedio para zona 1: ${int(sum(ganancia_for_mil_subsamples_data_1)/1000)} millones de dolares')"
   ]
  },
  {
   "cell_type": "code",
   "execution_count": 30,
   "metadata": {},
   "outputs": [
    {
     "name": "stdout",
     "output_type": "stream",
     "text": [
      "Ganancia libre en promedio para zona 2: $4044038 millones de dolares\n"
     ]
    }
   ],
   "source": [
    "ganancia_for_mil_subsamples_data_2 = bootstrapping(data_2)\n",
    "\n",
    "print(f'Ganancia libre en promedio para zona 2: ${int(sum(ganancia_for_mil_subsamples_data_2)/1000)} millones de dolares')"
   ]
  },
  {
   "cell_type": "markdown",
   "metadata": {},
   "source": [
    "Podemos ver que despues de usar el bootstrapping y seleccionar los valores completamente al azar, el beneficio promedio de cada region cambia significativamente. Esto se debe a que estamos mezclando pozos rentables con aquellos que no cumplen el minimo de produccion esperada de manera completamente aleatoria. \n",
    "\n",
    "Ahora la region que mas beneficio promedio genera es la zona 1, con poco mas de 45 millones de dolares. Como cambiaron las posiciones despues de usar los valores que nuestro modelo predijo."
   ]
  },
  {
   "cell_type": "markdown",
   "metadata": {},
   "source": [
    "#### Intervalo de confianza del 95% para el volumen promedio de unidades por region."
   ]
  },
  {
   "cell_type": "markdown",
   "metadata": {},
   "source": [
    "##### Intervalo de confianza. Zona 0."
   ]
  },
  {
   "cell_type": "code",
   "execution_count": 31,
   "metadata": {},
   "outputs": [
    {
     "name": "stdout",
     "output_type": "stream",
     "text": [
      "Intervalo de confianza para zona 0: (-1112155 , 9097669)\n"
     ]
    }
   ],
   "source": [
    "ganancia_for_mil_subsamples_data_0 = pd.Series(ganancia_for_mil_subsamples_data_0)\n",
    "\n",
    "lower = ganancia_for_mil_subsamples_data_0.quantile(0.025)\n",
    "upper = ganancia_for_mil_subsamples_data_0.quantile(0.975)\n",
    "\n",
    "print(f\"Intervalo de confianza para zona 0: ({int(lower)} , {int(upper)})\")"
   ]
  },
  {
   "cell_type": "markdown",
   "metadata": {},
   "source": [
    "##### Intervalo de confianza. Zona 1."
   ]
  },
  {
   "cell_type": "code",
   "execution_count": 32,
   "metadata": {},
   "outputs": [
    {
     "name": "stdout",
     "output_type": "stream",
     "text": [
      "Intervalo de confianza para zona 1: (338205 , 8522894)\n"
     ]
    }
   ],
   "source": [
    "ganancia_for_mil_subsamples_data_1 = pd.Series(ganancia_for_mil_subsamples_data_1)\n",
    "\n",
    "lower = ganancia_for_mil_subsamples_data_1.quantile(0.025)\n",
    "upper = ganancia_for_mil_subsamples_data_1.quantile(0.975)\n",
    "\n",
    "print(f\"Intervalo de confianza para zona 1: ({int(lower)} , {int(upper)})\")"
   ]
  },
  {
   "cell_type": "markdown",
   "metadata": {},
   "source": [
    "##### Intervalo de confianza. Zona 2."
   ]
  },
  {
   "cell_type": "code",
   "execution_count": 33,
   "metadata": {},
   "outputs": [
    {
     "name": "stdout",
     "output_type": "stream",
     "text": [
      "Intervalo de confianza para zona 2: (-1633504 , 9503595)\n"
     ]
    }
   ],
   "source": [
    "ganancia_for_mil_subsamples_data_2 = pd.Series(ganancia_for_mil_subsamples_data_2)\n",
    "\n",
    "lower = ganancia_for_mil_subsamples_data_2.quantile(0.025)\n",
    "upper = ganancia_for_mil_subsamples_data_2.quantile(0.975)\n",
    "\n",
    "print(f\"Intervalo de confianza para zona 2: ({int(lower)} , {int(upper)})\")"
   ]
  },
  {
   "cell_type": "markdown",
   "metadata": {},
   "source": [
    "#### Calculo de riesgo de pérdidas."
   ]
  },
  {
   "cell_type": "code",
   "execution_count": 34,
   "metadata": {},
   "outputs": [],
   "source": [
    "def calculo_de_riesgo_v2(ganancias):\n",
    "    \n",
    "    return ((ganancias<0).mean())*100"
   ]
  },
  {
   "cell_type": "code",
   "execution_count": 36,
   "metadata": {},
   "outputs": [
    {
     "name": "stdout",
     "output_type": "stream",
     "text": [
      "Porcentaje de riesgo de perdida para zona 0: 6.9 %\n"
     ]
    }
   ],
   "source": [
    "porcentaje_riesgo_perdida_0_v2 = calculo_de_riesgo_v2(ganancia_for_mil_subsamples_data_0)\n",
    "\n",
    "print(f\"Porcentaje de riesgo de perdida para zona 0: {porcentaje_riesgo_perdida_0_v2} %\")"
   ]
  },
  {
   "cell_type": "code",
   "execution_count": 37,
   "metadata": {},
   "outputs": [
    {
     "name": "stdout",
     "output_type": "stream",
     "text": [
      "Porcentaje de riesgo de perdida para zona 1: 1.5 %\n"
     ]
    }
   ],
   "source": [
    "porcentaje_riesgo_perdida_1_v2 = calculo_de_riesgo_v2(ganancia_for_mil_subsamples_data_1)\n",
    "\n",
    "print(f\"Porcentaje de riesgo de perdida para zona 1: {porcentaje_riesgo_perdida_1_v2} %\")"
   ]
  },
  {
   "cell_type": "code",
   "execution_count": 38,
   "metadata": {},
   "outputs": [
    {
     "name": "stdout",
     "output_type": "stream",
     "text": [
      "Porcentaje de riesgo de perdida para zona 2: 7.6 %\n"
     ]
    }
   ],
   "source": [
    "porcentaje_riesgo_perdida_2_v2 = calculo_de_riesgo_v2(ganancia_for_mil_subsamples_data_2)\n",
    "\n",
    "print(f\"Porcentaje de riesgo de perdida para zona 2: {porcentaje_riesgo_perdida_2_v2} %\")"
   ]
  },
  {
   "cell_type": "markdown",
   "metadata": {},
   "source": [
    "### Conclusiones.\n",
    "---\n",
    "Una de las condiciones que la empresa puso fue que después de la evaluación de riesgo, podiamos mantener solo las regiones con riesgo de pérdidas inferior al 2.5%. Podemos ver que la unica region que cumple esta regla es la zona 1, asi que lo indicado seria explotar esta misma. \n",
    "\n",
    "Nuestra conclusion difiere totalmente de la realizada en el punto 4, pero se entiende que la zona 2 pudiera ser un poco mas estable y segura para invertir. "
   ]
  }
 ],
 "metadata": {
  "kernelspec": {
   "display_name": "Python 3 (ipykernel)",
   "language": "python",
   "name": "python3"
  },
  "language_info": {
   "codemirror_mode": {
    "name": "ipython",
    "version": 3
   },
   "file_extension": ".py",
   "mimetype": "text/x-python",
   "name": "python",
   "nbconvert_exporter": "python",
   "pygments_lexer": "ipython3",
   "version": "3.9.19"
  },
  "toc": {
   "base_numbering": 1,
   "nav_menu": {},
   "number_sections": true,
   "sideBar": true,
   "skip_h1_title": true,
   "title_cell": "Table of Contents",
   "title_sidebar": "Contents",
   "toc_cell": false,
   "toc_position": {},
   "toc_section_display": true,
   "toc_window_display": false
  }
 },
 "nbformat": 4,
 "nbformat_minor": 2
}
